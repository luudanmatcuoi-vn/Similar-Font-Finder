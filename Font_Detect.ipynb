{
  "nbformat": 4,
  "nbformat_minor": 0,
  "metadata": {
    "colab": {
      "provenance": [],
      "authorship_tag": "ABX9TyOGZz/T7dAxpCH0tuFEUxgw",
      "include_colab_link": true
    },
    "kernelspec": {
      "name": "python3",
      "display_name": "Python 3"
    },
    "language_info": {
      "name": "python"
    }
  },
  "cells": [
    {
      "cell_type": "markdown",
      "metadata": {
        "id": "view-in-github",
        "colab_type": "text"
      },
      "source": [
        "<a href=\"https://colab.research.google.com/github/luudanmatcuoi-vn/Similar-Font-Finder/blob/main/Font_Detect.ipynb\" target=\"_parent\"><img src=\"https://colab.research.google.com/assets/colab-badge.svg\" alt=\"Open In Colab\"/></a>"
      ]
    },
    {
      "cell_type": "code",
      "execution_count": null,
      "metadata": {
        "id": "89QZsZSzWqW5"
      },
      "outputs": [],
      "source": [
        "import sys, re, json\n",
        "sys.stdout.reconfigure(encoding='utf-8')\n",
        "import numpy as np\n",
        "from PIL import Image, ImageDraw, ImageFont\n",
        "import imagehash\n",
        "from scipy import ndimage\n",
        "global_font = \"Inconsolata-Bold.ttf\"\n",
        "\n",
        "def get_image(image_path):\n",
        "  with Image.open(image_path) as image:\n",
        "    im_arr = np.frombuffer(image.tobytes(), dtype=np.uint8)\n",
        "    im_arr = np.copy(im_arr)\n",
        "    im_arr = im_arr.reshape((image.size[1], image.size[0], 3))\n",
        "    im_arr = im_arr[:,:,0]\n",
        "    im_arr[im_arr<100] = 0\n",
        "  return np.array(im_arr, dtype=bool)\n",
        "\n",
        "def make_seperate_img(np_img, box, label, extend = True):\n",
        "    if extend:\n",
        "        np_img = np.copy(np_img[box[1]:box[3]+2,box[0]:box[2]+2])\n",
        "        np_img[np_img!=label]=0\n",
        "        np_img[np_img>0]=1\n",
        "        return  np_img\n",
        "    else:\n",
        "        np_img = np.copy(np_img[box[1]:box[3],box[0]:box[2]])\n",
        "        return  np_img==label\n",
        "    return  np_img==label\n",
        "\n",
        "image_path = \"m_test_find_font.jpeg\"\n",
        "\n",
        "image = get_image(image_path)\n",
        "img = Image.open(image_path)\n",
        "font = ImageFont.truetype(global_font, 20)\n",
        "\n",
        "label_img, num_features = ndimage.label(image, structure = [[0,1,0],[1,1,1],[0,1,0]])\n",
        "bounding_box = ndimage.find_objects(label_img)\n",
        "\n",
        "\n",
        "\n",
        "for g in range(1,num_features+1):\n",
        "    box = [ bounding_box[g-1][1].start, bounding_box[g-1][0].start, bounding_box[g-1][1].stop, bounding_box[g-1][0].stop]\n",
        "    draw = ImageDraw.Draw(img)\n",
        "    draw.text(( box[0],box[1] ), str(g), (255), font = font)\n",
        "\n",
        "# img.show()\n",
        "\n",
        "\n",
        "text_result = \"17 Q,29 u,25 a,26 n,20 b,27 a,19 F,21 R,23 E,18 Y\"\n",
        "text_result = [{\"id\":int(a.split(\" \")[0]),\"text\":a.split(\" \")[1]} for a in text_result.split(\",\")]\n",
        "\n",
        "for t in text_result:\n",
        "\tg = t[\"id\"]\n",
        "\tbox = [ bounding_box[g-1][1].start, bounding_box[g-1][0].start, bounding_box[g-1][1].stop, bounding_box[g-1][0].stop]\n",
        "\tt[\"hash\"] = imagehash.phash( Image.fromarray(make_seperate_img(label_img,box,g) ) )\n",
        "\n",
        "# print(text_result)\n",
        "\n",
        "with open('font_hash.json', 'r', encoding=\"utf-8\") as f:\n",
        "    font_data =  json.load(f)\n",
        "\n",
        "font_result = []\n",
        "\n",
        "for f in font_data.keys():\n",
        "\tscore = 0\n",
        "\tfor t in text_result:\n",
        "\t\tscore+=  imagehash.hex_to_hash( font_data[f][ t[\"text\"] ] ) - t[\"hash\"]\n",
        "\tfont_result+=[{\"font\":f,\"score\":score}]\n",
        "\n",
        "font_result = sorted(font_result, key=lambda d: d['score'])\n",
        "\n",
        "font_result = font_result[:20]\n",
        "print(font_result)\n"
      ]
    }
  ]
}